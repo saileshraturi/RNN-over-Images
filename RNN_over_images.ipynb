{
  "nbformat": 4,
  "nbformat_minor": 0,
  "metadata": {
    "colab": {
      "name": "RNN over images.ipynb",
      "provenance": [],
      "authorship_tag": "ABX9TyOyjM7zUVZDiX4uRsgbgpfa",
      "include_colab_link": true
    },
    "kernelspec": {
      "name": "python3",
      "display_name": "Python 3"
    },
    "accelerator": "GPU"
  },
  "cells": [
    {
      "cell_type": "markdown",
      "metadata": {
        "id": "view-in-github",
        "colab_type": "text"
      },
      "source": [
        "<a href=\"https://colab.research.google.com/github/saileshraturi/RNN-over-Images/blob/master/RNN_over_images.ipynb\" target=\"_parent\"><img src=\"https://colab.research.google.com/assets/colab-badge.svg\" alt=\"Open In Colab\"/></a>"
      ]
    },
    {
      "cell_type": "code",
      "metadata": {
        "id": "mZDuU9PLWkv5",
        "colab_type": "code",
        "colab": {}
      },
      "source": [
        "import tensorflow as tf\n",
        "import pandas as pd\n",
        "import numpy as np\n",
        "import matplotlib.pyplot as plt\n"
      ],
      "execution_count": 0,
      "outputs": []
    },
    {
      "cell_type": "code",
      "metadata": {
        "id": "EcKOami2WzbO",
        "colab_type": "code",
        "colab": {}
      },
      "source": [
        "from tensorflow.keras.layers import Input, Dense, SimpleRNN,LSTM,GRU,Flatten\n",
        "from tensorflow.keras.models import Model\n",
        "from tensorflow.keras.optimizers import Adam, SGD"
      ],
      "execution_count": 0,
      "outputs": []
    },
    {
      "cell_type": "code",
      "metadata": {
        "id": "1KbnIZnlXR8M",
        "colab_type": "code",
        "colab": {}
      },
      "source": [
        "#fashion_mnist = tf.keras.datasets.fashion_mnist\n",
        "mnist = tf.keras.datasets.mnist"
      ],
      "execution_count": 0,
      "outputs": []
    },
    {
      "cell_type": "code",
      "metadata": {
        "id": "lXdXdiMjXlba",
        "colab_type": "code",
        "colab": {
          "base_uri": "https://localhost:8080/",
          "height": 51
        },
        "outputId": "a4dc4186-f558-4dab-fce6-8992bbe7d053"
      },
      "source": [
        "(x_train,y_train),(x_test,y_test) = mnist.load_data()\n",
        "(x_train,x_test) = x_train/255.0, x_test/255.0"
      ],
      "execution_count": 40,
      "outputs": [
        {
          "output_type": "stream",
          "text": [
            "Downloading data from https://storage.googleapis.com/tensorflow/tf-keras-datasets/mnist.npz\n",
            "11493376/11490434 [==============================] - 0s 0us/step\n"
          ],
          "name": "stdout"
        }
      ]
    },
    {
      "cell_type": "code",
      "metadata": {
        "id": "gltj_MMcX1h2",
        "colab_type": "code",
        "colab": {
          "base_uri": "https://localhost:8080/",
          "height": 34
        },
        "outputId": "29f74f73-f9f9-4d7a-a41c-bf82975b7163"
      },
      "source": [
        "print(x_train.shape,y_train.shape,x_test.shape,y_test.shape)"
      ],
      "execution_count": 41,
      "outputs": [
        {
          "output_type": "stream",
          "text": [
            "(60000, 28, 28) (60000,) (10000, 28, 28) (10000,)\n"
          ],
          "name": "stdout"
        }
      ]
    },
    {
      "cell_type": "code",
      "metadata": {
        "id": "TZCrh2RybBH6",
        "colab_type": "code",
        "colab": {
          "base_uri": "https://localhost:8080/",
          "height": 34
        },
        "outputId": "8eb92a3a-78df-4373-8c6e-8b328a09d502"
      },
      "source": [
        "print(x_train[0].shape)"
      ],
      "execution_count": 42,
      "outputs": [
        {
          "output_type": "stream",
          "text": [
            "(28, 28)\n"
          ],
          "name": "stdout"
        }
      ]
    },
    {
      "cell_type": "code",
      "metadata": {
        "id": "kaBN_3HZX_sd",
        "colab_type": "code",
        "colab": {}
      },
      "source": [
        "#build the model\n",
        "\n",
        "i = Input(shape=(x_train[0].shape))\n",
        "o = LSTM(128)(i)\n",
        "o = Dense(10,activation='softmax')(o)\n",
        "model = Model(i,o)"
      ],
      "execution_count": 0,
      "outputs": []
    },
    {
      "cell_type": "code",
      "metadata": {
        "id": "zt1NR6zmZO_m",
        "colab_type": "code",
        "colab": {}
      },
      "source": [
        "#Compile the Model\n",
        "model.compile(optimizer='Adam',\n",
        "              loss = 'sparse_categorical_crossentropy',\n",
        "              metrics = 'accuracy',)"
      ],
      "execution_count": 0,
      "outputs": []
    },
    {
      "cell_type": "code",
      "metadata": {
        "id": "0F_FXyF6alfp",
        "colab_type": "code",
        "colab": {
          "base_uri": "https://localhost:8080/",
          "height": 697
        },
        "outputId": "e228fc83-2d72-4982-f913-ba4f14598b22"
      },
      "source": [
        "#Train the model\n",
        "r = model.fit(x_train,y_train,\n",
        "              epochs = 20,\n",
        "              validation_data = (x_test,y_test),)"
      ],
      "execution_count": 48,
      "outputs": [
        {
          "output_type": "stream",
          "text": [
            "Epoch 1/20\n",
            "1875/1875 [==============================] - 7s 4ms/step - loss: 0.0199 - accuracy: 0.9936 - val_loss: 0.0370 - val_accuracy: 0.9885\n",
            "Epoch 2/20\n",
            "1875/1875 [==============================] - 7s 4ms/step - loss: 0.0153 - accuracy: 0.9955 - val_loss: 0.0484 - val_accuracy: 0.9875\n",
            "Epoch 3/20\n",
            "1875/1875 [==============================] - 7s 4ms/step - loss: 0.0180 - accuracy: 0.9942 - val_loss: 0.0407 - val_accuracy: 0.9881\n",
            "Epoch 4/20\n",
            "1875/1875 [==============================] - 7s 4ms/step - loss: 0.0145 - accuracy: 0.9955 - val_loss: 0.0450 - val_accuracy: 0.9872\n",
            "Epoch 5/20\n",
            "1875/1875 [==============================] - 7s 4ms/step - loss: 0.0124 - accuracy: 0.9961 - val_loss: 0.0449 - val_accuracy: 0.9877\n",
            "Epoch 6/20\n",
            "1875/1875 [==============================] - 7s 4ms/step - loss: 0.0128 - accuracy: 0.9962 - val_loss: 0.0469 - val_accuracy: 0.9876\n",
            "Epoch 7/20\n",
            "1875/1875 [==============================] - 7s 4ms/step - loss: 0.0124 - accuracy: 0.9959 - val_loss: 0.0444 - val_accuracy: 0.9882\n",
            "Epoch 8/20\n",
            "1875/1875 [==============================] - 7s 4ms/step - loss: 0.0104 - accuracy: 0.9966 - val_loss: 0.0454 - val_accuracy: 0.9881\n",
            "Epoch 9/20\n",
            "1875/1875 [==============================] - 8s 4ms/step - loss: 0.0098 - accuracy: 0.9969 - val_loss: 0.0500 - val_accuracy: 0.9870\n",
            "Epoch 10/20\n",
            "1875/1875 [==============================] - 7s 4ms/step - loss: 0.0089 - accuracy: 0.9971 - val_loss: 0.0409 - val_accuracy: 0.9896\n",
            "Epoch 11/20\n",
            "1875/1875 [==============================] - 7s 4ms/step - loss: 0.0101 - accuracy: 0.9969 - val_loss: 0.0462 - val_accuracy: 0.9886\n",
            "Epoch 12/20\n",
            "1875/1875 [==============================] - 7s 4ms/step - loss: 0.0080 - accuracy: 0.9974 - val_loss: 0.0533 - val_accuracy: 0.9878\n",
            "Epoch 13/20\n",
            "1875/1875 [==============================] - 7s 4ms/step - loss: 0.0075 - accuracy: 0.9974 - val_loss: 0.0467 - val_accuracy: 0.9886\n",
            "Epoch 14/20\n",
            "1875/1875 [==============================] - 7s 4ms/step - loss: 0.0084 - accuracy: 0.9973 - val_loss: 0.0517 - val_accuracy: 0.9865\n",
            "Epoch 15/20\n",
            "1875/1875 [==============================] - 7s 4ms/step - loss: 0.0077 - accuracy: 0.9977 - val_loss: 0.0454 - val_accuracy: 0.9885\n",
            "Epoch 16/20\n",
            "1875/1875 [==============================] - 7s 4ms/step - loss: 0.0054 - accuracy: 0.9984 - val_loss: 0.0597 - val_accuracy: 0.9849\n",
            "Epoch 17/20\n",
            "1875/1875 [==============================] - 7s 4ms/step - loss: 0.0073 - accuracy: 0.9978 - val_loss: 0.0439 - val_accuracy: 0.9902\n",
            "Epoch 18/20\n",
            "1875/1875 [==============================] - 7s 4ms/step - loss: 0.0058 - accuracy: 0.9983 - val_loss: 0.0563 - val_accuracy: 0.9880\n",
            "Epoch 19/20\n",
            "1875/1875 [==============================] - 7s 4ms/step - loss: 0.0060 - accuracy: 0.9982 - val_loss: 0.0570 - val_accuracy: 0.9866\n",
            "Epoch 20/20\n",
            "1875/1875 [==============================] - 7s 4ms/step - loss: 0.0060 - accuracy: 0.9981 - val_loss: 0.0567 - val_accuracy: 0.9867\n"
          ],
          "name": "stdout"
        }
      ]
    },
    {
      "cell_type": "code",
      "metadata": {
        "id": "nDfK59MGa37E",
        "colab_type": "code",
        "colab": {
          "base_uri": "https://localhost:8080/",
          "height": 282
        },
        "outputId": "fde8d471-f709-434a-cb59-3c9fbdba5cc3"
      },
      "source": [
        "plt.plot(r.history['loss'],label ='loss')\n",
        "plt.plot(r.history['val_loss'],label = 'Validation loss')\n",
        "plt.legend()"
      ],
      "execution_count": 51,
      "outputs": [
        {
          "output_type": "execute_result",
          "data": {
            "text/plain": [
              "<matplotlib.legend.Legend at 0x7fe6938d20f0>"
            ]
          },
          "metadata": {
            "tags": []
          },
          "execution_count": 51
        },
        {
          "output_type": "display_data",
          "data": {
            "image/png": "[encoded data removed]",
            "text/plain": [
              "<Figure size 432x288 with 1 Axes>"
            ]
          },
          "metadata": {
            "tags": [],
            "needs_background": "light"
          }
        }
      ]
    },
    {
      "cell_type": "code",
      "metadata": {
        "id": "LUxkexs4dGdY",
        "colab_type": "code",
        "colab": {
          "base_uri": "https://localhost:8080/",
          "height": 282
        },
        "outputId": "ce7fb0a6-5dcc-402e-bb95-e90d1ad783e6"
      },
      "source": [
        "plt.plot(r.history['accuracy'],label ='accuracy')\n",
        "plt.plot(r.history['val_accuracy'],label = 'Validation accuracy')\n",
        "plt.legend()"
      ],
      "execution_count": 50,
      "outputs": [
        {
          "output_type": "execute_result",
          "data": {
            "text/plain": [
              "<matplotlib.legend.Legend at 0x7fe6a1bf78d0>"
            ]
          },
          "metadata": {
            "tags": []
          },
          "execution_count": 50
        },
        {
          "output_type": "display_data",
          "data": {
            "image/png": "[encoded data removed]",
            "text/plain": [
              "<Figure size 432x288 with 1 Axes>"
            ]
          },
          "metadata": {
            "tags": [],
            "needs_background": "light"
          }
        }
      ]
    },
    {
      "cell_type": "code",
      "metadata": {
        "id": "AvN2ONjRdKq1",
        "colab_type": "code",
        "colab": {}
      },
      "source": [
        "#Plot confusion matrix\n",
        "from sklearn.metrics import confusion_matrix\n",
        "import numpy as np\n",
        "import itertools\n",
        "import matplotlib.pyplot as plt"
      ],
      "execution_count": 0,
      "outputs": []
    },
    {
      "cell_type": "code",
      "metadata": {
        "id": "yhLnR0SXde9i",
        "colab_type": "code",
        "colab": {
          "base_uri": "https://localhost:8080/",
          "height": 498
        },
        "outputId": "0ab12d53-3143-457b-a01f-9fbf6e189ae3"
      },
      "source": [
        "def plot_confusion_matrix(cm,classes,\n",
        "                          normalize = False,\n",
        "                          title = 'confusion matrix',\n",
        "                          cmap =plt.cm.Blues):\n",
        "  #This function print and plot the confusion matrix\n",
        "  if normalize:\n",
        "      cm = cm.astype('float') / cm.sum(axis = 1)[:, np.newaxis]\n",
        "      print(\"Normalized confusion matrix\")\n",
        "  else:\n",
        "      print('confusion matrix without normalization')\n",
        "  print(cm)\n",
        "\n",
        "  plt.imshow(cm,interpolation='nearest',cmap=cmap)\n",
        "  plt.title(title)\n",
        "  plt.colorbar()\n",
        "  tick_marks = np.arange(len(classes))\n",
        "  plt.xticks(tick_marks,classes,rotation = 45)\n",
        "  plt.yticks(tick_marks,classes)\n",
        "\n",
        "  fmt ='.2f' if normalize else 'd'\n",
        "  thresh = cm.max() / 2.\n",
        "\n",
        "  for i,j in itertools.product(range(cm.shape[0]), range(cm.shape[1])):\n",
        "      plt.text(j, i, format(cm[i, j],fmt),\n",
        "               horizontalalignment='center',\n",
        "               color = 'white' if cm[i,j] > thresh else 'black')\n",
        "  plt.tight_layout()\n",
        "  plt.ylabel(\"True label\")\n",
        "  plt.xlabel(\"Predicted label\")\n",
        "  plt.show()\n",
        "\n",
        "p_test = model.predict(x_test).argmax(axis =1)\n",
        "cm = confusion_matrix(y_test,p_test)\n",
        "plot_confusion_matrix(cm,list(range(10)))"
      ],
      "execution_count": 53,
      "outputs": [
        {
          "output_type": "stream",
          "text": [
            "confusion matrix without normalization\n",
            "[[ 975    0    0    0    1    2    1    1    0    0]\n",
            " [   1 1127    1    1    1    1    0    2    1    0]\n",
            " [   0    0 1027    0    1    0    0    4    0    0]\n",
            " [   0    0    4  997    0    5    0    3    1    0]\n",
            " [   0    1    3    0  975    0    0    0    0    3]\n",
            " [   1    0    0    1    1  888    1    0    0    0]\n",
            " [   3    3    9    1    1    6  930    0    5    0]\n",
            " [   0    3    6    3    3    0    0 1012    1    0]\n",
            " [   0    3    2    1    0    4    2    4  956    2]\n",
            " [   0    0    0    0   11    2    0    9    7  980]]\n"
          ],
          "name": "stdout"
        },
        {
          "output_type": "display_data",
          "data": {
            "image/png": "[encoded data removed]",
            "text/plain": [
              "<Figure size 432x288 with 2 Axes>"
            ]
          },
          "metadata": {
            "tags": [],
            "needs_background": "light"
          }
        }
      ]
    },
    {
      "cell_type": "code",
      "metadata": {
        "id": "QvFW57-Qdji3",
        "colab_type": "code",
        "colab": {}
      },
      "source": [
        "\n",
        "#Label Mapping\n",
        "labels = ''' T-shirt/Top\n",
        "Trouser\n",
        "Pullover\n",
        "Dress\n",
        "Coat\n",
        "Sandal\n",
        "Shirt\n",
        "Sneaket\n",
        "Belt\n",
        "AnkleBoot '''.split()"
      ],
      "execution_count": 0,
      "outputs": []
    },
    {
      "cell_type": "code",
      "metadata": {
        "id": "lpAm8PAYdnFD",
        "colab_type": "code",
        "colab": {
          "base_uri": "https://localhost:8080/",
          "height": 281
        },
        "outputId": "e06c4f0a-3b57-463a-f60c-4de99882ccb5"
      },
      "source": [
        "#Show some misclassified examples\n",
        "misclassified_idx = np.where(p_test != y_test)[0]\n",
        "i= np.random.choice(misclassified_idx)\n",
        "plt.imshow(x_test[i].reshape(28,28), cmap='gray')\n",
        "plt.title(\"True Label %s Predicted label %s:\"% (labels[y_test[i]],labels[p_test[i]]));"
      ],
      "execution_count": 38,
      "outputs": [
        {
          "output_type": "display_data",
          "data": {
            "image/png": "[encoded data removed]",
            "text/plain": [
              "<Figure size 432x288 with 1 Axes>"
            ]
          },
          "metadata": {
            "tags": [],
            "needs_background": "light"
          }
        }
      ]
    }
  ]
}